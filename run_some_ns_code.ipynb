{
 "cells": [
  {
   "cell_type": "code",
   "execution_count": null,
   "metadata": {},
   "outputs": [],
   "source": [
    "import ns as ns\n",
    "import numpy as np\n",
    "import torch\n",
    "import pprint\n",
    "import matplotlib.pyplot as plt"
   ]
  },
  {
   "cell_type": "markdown",
   "metadata": {},
   "source": [
    "# continuity equation example\n",
    "In this example of solving the continuity equation in three dimensions, we simulate fluid flow within a 3D domain using a computational approach based on PyTorch. The fluid velocity components (u, v, w) are initialized with zero velocity, and the pressure field (p) is initialized with a single high-pressure point at the center of the grid. We employ a finite-difference scheme to iteratively solve the continuity equation, which ensures mass conservation within the fluid domain. As the simulation progresses over multiple time steps, the high-pressure point serves as a source, and we observe how pressure propagates and spreads throughout the 3D space. The final pressure field is visualized, providing insights into how pressure disturbances evolve in a fluid medium. This example demonstrates the fundamental principles of fluid dynamics and numerical methods for simulating fluid behavior in three dimensions."
   ]
  },
  {
   "cell_type": "code",
   "execution_count": null,
   "metadata": {},
   "outputs": [],
   "source": [
    "# Grid parameters\n",
    "nx, ny, nz = 10, 10, 10  # Number of grid points in each dimension\n",
    "dx, dy, dz = 0.1, 0.1, 0.1  # Grid spacing\n",
    "dt = 0.01  # Time step\n",
    "num_iterations = 50  # Number of time iterations\n",
    "\n",
    "# Initialize pressure field (with a single high-pressure point)\n",
    "p, u, v, w = ns.initialize_pressure_with_high_point_3d(nx, ny, nz, (5, 5, 5))\n",
    "ns.plot_fields(u, v, w, p, 2, title=True)\n",
    "for t in range(num_iterations):\n",
    "    print(\"Time\", t)\n",
    "    # Call the function to solve the continuity equation\n",
    "    u, v, w, p = ns.solve_continuity_equation_3d(u, v, w, p, dx, dy, dz, dt, 1)\n",
    "    ns.plot_fields(u, v, w, p, 2)"
   ]
  },
  {
   "cell_type": "code",
   "execution_count": null,
   "metadata": {},
   "outputs": [],
   "source": [
    "print(thiscellwillstopthenotebook)"
   ]
  },
  {
   "cell_type": "code",
   "execution_count": null,
   "metadata": {},
   "outputs": [],
   "source": [
    "\n",
    "# Example usage with PyTorch tensors\n",
    "u = torch.tensor([[1.0, 2.0], [3.0, 4.0]])  # 2D tensor for u\n",
    "v = torch.tensor([[2.0, 3.0], [4.0, 5.0]])  # 2D tensor for v\n",
    "\n",
    "# Sample inputs as PyTorch tensors\n",
    "pressure = torch.tensor(100.0)  # Example pressure value\n",
    "viscosity = torch.tensor(1.0)   # Dynamic viscosity of the fluid\n",
    "velocity_field = torch.tensor([[1.0, 2.0], [3.0, 4.0]])  # An example 2D velocity field\n",
    "\n",
    "# Recalculating the tensors\n",
    "rate_of_strain = ns.calculate_rate_of_strain_2D(u, v)\n",
    "deviatoric_stress = ns.calculate_deviatoric_stress(viscosity, rate_of_strain)\n",
    "isotropic_stress = -pressure * torch.eye(2)  # Assuming a 2D case\n",
    "total_stress = isotropic_stress + deviatoric_stress\n",
    "\n",
    "rate_of_strain, deviatoric_stress, isotropic_stress, total_stress\n",
    "\n",
    "# Pretty printing the tensors with alignment\n",
    "pp = pprint.PrettyPrinter(indent=4)\n",
    "\n",
    "print(\"Rate of Strain Tensor:\")\n",
    "pp.pprint(rate_of_strain)\n",
    "\n",
    "print(\"\\nDeviatoric Stress Tensor:\")\n",
    "pp.pprint(deviatoric_stress)\n",
    "\n",
    "print(\"\\nIsotropic Stress Tensor (Pressure):\")\n",
    "pp.pprint(isotropic_stress)\n",
    "\n",
    "print(\"\\nTotal Stress Tensor:\")\n",
    "pp.pprint(total_stress)"
   ]
  },
  {
   "cell_type": "code",
   "execution_count": null,
   "metadata": {},
   "outputs": [],
   "source": [
    "# Sample inputs as PyTorch tensors\n",
    "u_3d = torch.rand(3, 3, 3)\n",
    "v_3d = torch.rand(3, 3, 3)\n",
    "w_3d = torch.rand(3, 3, 3)\n",
    "\n",
    "# Calculate rate of strain tensor using the PyTorch function\n",
    "rate_of_strain_3d = ns.calculate_rate_of_strain_3D(u_3d, v_3d, w_3d)\n",
    "\n",
    "# Print the result\n",
    "print(rate_of_strain_3d)"
   ]
  },
  {
   "cell_type": "code",
   "execution_count": null,
   "metadata": {},
   "outputs": [],
   "source": []
  }
 ],
 "metadata": {
  "kernelspec": {
   "display_name": "Python 3",
   "language": "python",
   "name": "python3"
  },
  "language_info": {
   "codemirror_mode": {
    "name": "ipython",
    "version": 3
   },
   "file_extension": ".py",
   "mimetype": "text/x-python",
   "name": "python",
   "nbconvert_exporter": "python",
   "pygments_lexer": "ipython3",
   "version": "3.10.12"
  }
 },
 "nbformat": 4,
 "nbformat_minor": 2
}
